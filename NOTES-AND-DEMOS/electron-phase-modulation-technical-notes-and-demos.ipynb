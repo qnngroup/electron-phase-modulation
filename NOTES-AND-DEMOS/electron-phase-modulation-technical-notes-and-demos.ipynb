{
 "cells": [
  {
   "cell_type": "markdown",
   "metadata": {},
   "source": [
    "# Transmissive Time-Domain Electron Phase Modulators \n",
    "\n",
    "In this document, a general semiclassical treatement of an electron passing through a thin, time-varying phase-modulator is developed.  The phase modulation is assumed to originate from an on-axis time-varying electric field.  The electron is assumed to pass through some thin region of space which contains an oscillating electric field pointing along the axis of propagation of the electron.  Upon exiting this thin region of field, the electron wavepacket has experienced a net, time-varying potential.  The assumption is that this time-varying potential has a cycle time that is much shorter than the duration of the electron wavepacket.  \n",
    "\n",
    "## Theoretical Treatment\n",
    "\n",
    "A key aspect of the kind of phase modulation that we will be discussing here is that there is a net potential step as a funciton of time experienced by the electron.  This can only occur for a localized field transient induced by a surface, as an electron that interacts with a freely-propagating mode cannot experience a net energy shift, only a pure time-averaged phase shift.  \n",
    "\n",
    "The treatment developed here has a few assumptions.  First, it is assumed that the electron obeys the slowly varying envelope approximation as it passes through the modulator, which in essence means that the temporal dilation of the wavepacket is minimal during passage.  Note, this is not assumed after the modulator, just during passage.  We can express the incoming wavepacket as\n",
    "\n",
    "\\begin{equation}\n",
    "\\Psi(x, t) = A(x - vt)e^{ik_0x}e^{-iE_0t/\\hbar}\n",
    "\\end{equation}\n",
    "\n",
    "Assuming the transmission through the modulator is 100% and that the electron moves sufficiently fast through the modulator so that it does not significantly reshape during its transit through the fields, we find that at the output port of the modulator would have a phase modulation $\\varphi(t)$, and would be expressed as:\n",
    "\n",
    "\\begin{equation}\n",
    "\\psi(0, t)  = A(-vt)e^{-iE_0t/\\hbar}e^{-j\\varphi(t)}\n",
    "\\end{equation}\n",
    "\n",
    "Where we take the output of the modulator at $x = 0$.  Given the net potential ramp from the oscillatig electric field region it passed through, we find that: \n",
    "\n",
    "\\begin{equation}\n",
    "\\frac{1}{\\hbar} \\varphi(t) =  \\int^t V(0, t') \\mathrm{d}t'\n",
    "\\end{equation}\n",
    "\n",
    "where $V(t)$ is the net potential experienced by the electron as it passes through the modulator.  \n",
    "\n",
    "Now that the modulation is accounted for, we want to know two things: (1) what is the new energy spectrum of the electron after interaction with the modulator; and (2) how does the electron wavepacket evolve in space and time as it travels away from the modulator element.\n",
    "\n",
    "Starting with (1), we find the energy spectrum can easily be obtained through the Fourier transform of the probability current at the output port of the modulator.  The wavepacket k-space amplitude is simply expressed as:\n",
    "\n",
    "\\begin{equation}\n",
    "a(k) = \\frac{(k + k_0)}{2\\sqrt{2\\pi}} \\int_{-\\infty}^\\infty \\mathrm{d}t e^{iEt/\\hbar} \\varphi(0, t)\\mathrm{,}\n",
    "\\end{equation}\n",
    "\n",
    "where we have used the slowly varying envelope approximation for the spatial derivative.  Note that $E$ is the outgoing energy, and is expressed as $E = k^2\\hbar^2/2m$, where $m$ is the electron mass.  This is nice because it allows us to use a simple Fourier transform with respect to $E$.  \n",
    "\n",
    "Next, for (2) the propagation, we simply need to move each plane-wave component with amplitude $a(k)$ forward in time and reconstruct the wavepacket in space.  This can be done as follows for a general treatment of $\\psi(x, t)$ such that $x > 0$.  \n",
    "\n",
    "\\begin{equation}\n",
    "\\psi(x > 0, t) = \\int_{-\\infty}^{\\infty} \\mathrm{d}k a(k) e^{-iE(k)t/\\hbar}e^{ikx}\\mathrm{.}\n",
    "\\end{equation}\n",
    "\n",
    "This is basically the entire problem that we want to solve.  In the next sections, we perform these calculations and discuss the results.\n",
    "\n",
    "## Example: Phase Modulation, Sub-Cycle Bunching, and Demodulation\n",
    "\n",
    "In this example, we perform an example calculation of phase modulation, attosecond bunching, and then demodulation.  \n",
    "\n",
    "### Modulation\n",
    "\n",
    "We start by setting up our initial conditions.  We assume an input electron wavepacket with a time duration of 10 femtoseconds.  We keep it short here to keep things quick, but this packet could be longer.  The wavepacket envelope is defined by `A`.  \n",
    "\n",
    "Summary of wavepacket settings:\n",
    " * Duration: 10 fs\n",
    " * Central Energy: 1 keV\n"
   ]
  },
  {
   "cell_type": "code",
   "execution_count": 1,
   "metadata": {},
   "outputs": [],
   "source": [
    "clear all;\n",
    "addpath('../');\n",
    "\n",
    "% Constants:\n",
    "c = 299.79245; %speed of light in nm/fs\n",
    "\n",
    "%Time axis and wavepacket pulse envelope for electron:\n",
    "t = linspace(-100, 100, 2000); %Time axis in fs\n",
    "W0 = 1e3; %Central energy in eV\n",
    "t_electron = 10; %FWHM of electron wavepacket in fs\n",
    "\n",
    "%Calculate the wavepacket envelope\n",
    "[A, garbage] = gaussian_pulse(t, t_electron, 0, 0);"
   ]
  },
  {
   "cell_type": "markdown",
   "metadata": {},
   "source": [
    "Next we enter the settings for our modulator.  For this we assume a modulation potential having a duration of 200 femtoseconds, a central wavelength of 1000 nm, and a peak value of 5 eV. The function `calc_energy_spec` is used to calculate the outgoing energy spectrum of the modulator for the specified wavepacket envelope `A`. \n",
    "\n",
    "Summary of modulator settings:\n",
    " * Duration: 200 fs\n",
    " * Modulation Strength: 5 eV"
   ]
  },
  {
   "cell_type": "code",
   "execution_count": 3,
   "metadata": {},
   "outputs": [
    {
     "data": {
      "image/png": "[encoded data removed]",
      "text/plain": [
       "<IPython.core.display.Image object>"
      ]
     },
     "metadata": {},
     "output_type": "display_data"
    }
   ],
   "source": [
    "\n",
    "%Modulator settings:\n",
    "lambda = 1000; %Wavelength in nm\n",
    "V_mag = 5; %Modulator potential strength in eV\n",
    "t_V = 200; %Duration of modulation function (FWHM in fs)\n",
    "\n",
    "%Calculate the central frequency of the modulator and its function\n",
    "omega = 2*pi*c/lambda;\n",
    "[V_env, garbage] = gaussian_pulse(t, t_V, omega, 0); %Potential function\n",
    "V = V_mag*V_env; %Construct the actual potential profile\n",
    "\n",
    "%Calculate and plot the energy spectrum\n",
    "[k, a_k, W, P_W] = calc_energy_spec(t, A, W0, V);\n",
    "\n",
    "figure(1);\n",
    "plot(W, P_W);\n",
    "set(gca, 'fontsize', 14);\n",
    "xlabel('Electron Energy (eV)', 'fontsize', 14);\n",
    "ylabel('Spectral Amplitude (a.u.)', 'fontsize', 14);"
   ]
  },
  {
   "cell_type": "markdown",
   "metadata": {},
   "source": [
    "Note that the central energy is maintained, but sidebands have been formed at multiples of the modulation photon energy due to the time-domain phase modulation.  This phase modulation also imparts regions of quadratic phase that lead to \"temporal focusing\" that we will explore in the next section.  "
   ]
  },
  {
   "cell_type": "markdown",
   "metadata": {},
   "source": [
    "### Sub-Cycle Bunching\n",
    "\n",
    "Due to the phase modulation imparted by passing through the modulator element, there are regions of quadratic phase temporally that lead to sub-optical-cycle bunching of the electron wavepacket as it propagates.  Just like a spatial lens, this focusing effect leads to bunching at a region in space after the modulator element, after which the electron packet starts to break apart again.  \n",
    "\n",
    "We can propagate the wavepacket forward in space to see this as described earlier.  There are two functions that do this based on the output of `calc_energy_spec()`.  \n",
    "\n",
    "Propagation Functions:\n",
    " * `propagate_fixed_time()` -- Propagates the electron forward for a fixed amount of time and returns the wavepacket as a function of space.\n",
    " * `propagate_fixed_space()` -- Outputs the electron wavepacket as a function of time as it passes a fixed region of space.\n"
   ]
  },
  {
   "cell_type": "markdown",
   "metadata": {},
   "source": [
    "\n",
    "\n",
    "\n",
    "\n",
    "## Notes About The Code\n",
    "\n",
    "In the code, the steps outlined above are taken almost exactly, but with some extra numerical considerations.  Note that for every fourier transform, the central energy and momenta are typically removed to avoid very high-frequency oscillating terms.  By taking out these central energy and momenta values, we relax sampling and memory constraints.  However, the removal of these terms leads to a bit of acrobatics where you have to make sure to put it in later, and keep track of the central location in time and space of the wavepacket.  Regardless, the code handles all of this for a user, so it is no problem.  \n"
   ]
  }
 ],
 "metadata": {
  "kernelspec": {
   "display_name": "Matlab",
   "language": "matlab",
   "name": "matlab"
  },
  "language_info": {
   "codemirror_mode": "octave",
   "file_extension": ".m",
   "help_links": [
    {
     "text": "MetaKernel Magics",
     "url": "https://metakernel.readthedocs.io/en/latest/source/README.html"
    }
   ],
   "mimetype": "text/x-octave",
   "name": "matlab",
   "version": "0.16.11"
  }
 },
 "nbformat": 4,
 "nbformat_minor": 4
}
