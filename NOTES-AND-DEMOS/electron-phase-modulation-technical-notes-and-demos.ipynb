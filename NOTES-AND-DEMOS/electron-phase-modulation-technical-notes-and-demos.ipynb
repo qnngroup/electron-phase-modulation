{
 "cells": [
  {
   "cell_type": "markdown",
   "metadata": {},
   "source": [
    "# Transmissive Time-Domain Electron Phase Modulators \n",
    "\n",
    "In this document, a general semiclassical treatement of an electron passing through a thin, time-varying phase-modulator is developed.  The phase modulation is assumed to originate from an on-axis time-varying electric field.  The electron is assumed to pass through some thin region of space which contains an oscillating electric field pointing along the axis of propagation of the electron.  Upon exiting this thin region of field, the electron wavepacket has experienced a net, time-varying potential.  The assumption is that this time-varying potential has a cycle time that is much shorter than the duration of the electron wavepacket.  \n",
    "\n",
    "## Theoretical Treatment\n",
    "\n",
    "A key aspect of the kind of phase modulation that we will be discussing here is that there is a net potential step as a funciton of time experienced by the electron.  This can only occur for a localized field transient induced by a surface, as an electron that interacts with a freely-propagating mode cannot experience a net energy shift, only a pure time-averaged phase shift.  \n",
    "\n",
    "The treatment developed here has a few assumptions.  First, it is assumed that the electron obeys the slowly varying envelope approximation as it passes through the modulator, which in essence means that the temporal dilation of the wavepacket is minimal during passage.  Note, this is not assumed after the modulator, just during passage.  We can express the incoming wavepacket as\n",
    "\n",
    "\\begin{equation}\n",
    "\\Psi(x, t) = A(x - vt)e^{ik_0x}e^{-iE_0t/\\hbar}\n",
    "\\end{equation}\n",
    "\n",
    "Assuming the transmission through the modulator is 100% and that the electron moves sufficiently fast through the modulator so that it does not significantly reshape during its transit through the fields, we find that at the output port of the modulator would have a phase modulation $\\varphi(t)$, and would be expressed as:\n",
    "\n",
    "\\begin{equation}\n",
    "\\psi(0, t)  = A(-vt)e^{-iE_0t/\\hbar}e^{-j\\varphi(t)}\n",
    "\\end{equation}\n",
    "\n",
    "Where we take the output of the modulator at $x = 0$.  Given the net potential ramp from the oscillatig electric field region it passed through, we find that: \n",
    "\n",
    "\\begin{equation}\n",
    "\\frac{1}{\\hbar} \\varphi(t) =  \\int^t V(0, t') \\mathrm{d}t'\n",
    "\\end{equation}\n",
    "\n",
    "where $V(t)$ is the net potential experienced by the electron as it passes through the modulator.  \n",
    "\n",
    "Now that the modulation is accounted for, we want to know two things: (1) what is the new energy spectrum of the electron after interaction with the modulator; and (2) how does the electron wavepacket evolve in space and time as it travels away from the modulator element.\n",
    "\n",
    "Starting with (1), we find the energy spectrum can easily be obtained through the Fourier transform of the probability current at the output port of the modulator.  The wavepacket k-space amplitude is simply expressed as:\n",
    "\n",
    "\\begin{equation}\n",
    "a(k) = \\frac{(k + k_0)}{2\\sqrt{2\\pi}} \\int_{-\\infty}^\\infty \\mathrm{d}t e^{iEt/\\hbar} \\varphi(0, t)\\mathrm{,}\n",
    "\\end{equation}\n",
    "\n",
    "where we have used the slowly varying envelope approximation for the spatial derivative.  Note that $E$ is the outgoing energy, and is expressed as $E = k^2\\hbar^2/2m$, where $m$ is the electron mass.  This is nice because it allows us to use a simple Fourier transform with respect to $E$.  \n",
    "\n",
    "Next, for (2) the propagation, we simply need to move each plane-wave component with amplitude $a(k)$ forward in time and reconstruct the wavepacket in space.  This can be done as follows for a general treatment of $\\psi(x, t)$ such that $x > 0$.  \n",
    "\n",
    "\\begin{equation}\n",
    "\\psi(x > 0, t) = \\int_{-\\infty}^{\\infty} \\mathrm{d}k a(k) e^{-iE(k)t/\\hbar}e^{ikx}\\mathrm{.}\n",
    "\\end{equation}\n",
    "\n",
    "This is basically the entire problem that we want to solve.  In the next sections, we perform these calculations and discuss the results.\n",
    "\n",
    "## Example 1: Standard Phase Modulator\n",
    "\n",
    "\n",
    "\n",
    "## Notes About The Code\n",
    "\n",
    "In the code, the steps outlined above are taken almost exactly, but with some extra numerical considerations.  Note that for every fourier transform, the central energy and momenta are typically removed to avoid very high-frequency oscillating terms.  By taking out these central energy and momenta values, we relax sampling and memory constraints.  However, the removal of these terms leads to a bit of acrobatics where you have to make sure to put it in later, and keep track of the central location in time and space of the wavepacket.  Regardless, the code handles all of this for a user, so it is no problem.  \n",
    "\n"
   ]
  }
 ],
 "metadata": {
  "kernelspec": {
   "display_name": "Matlab",
   "language": "matlab",
   "name": "matlab"
  },
  "language_info": {
   "codemirror_mode": "octave",
   "file_extension": ".m",
   "help_links": [
    {
     "text": "MetaKernel Magics",
     "url": "https://metakernel.readthedocs.io/en/latest/source/README.html"
    }
   ],
   "mimetype": "text/x-octave",
   "name": "matlab",
   "version": "0.16.11"
  }
 },
 "nbformat": 4,
 "nbformat_minor": 4
}
